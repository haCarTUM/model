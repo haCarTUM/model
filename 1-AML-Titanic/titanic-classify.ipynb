{
 "cells": [
  {
   "cell_type": "code",
   "execution_count": 1,
   "metadata": {},
   "outputs": [],
   "source": [
    "# Use Azure Machine Learning history magic to control history collection\n",
    "# History is off by default, options are \"on\", \"off\", or \"show\"\n",
    "# %azureml history on"
   ]
  },
  {
   "cell_type": "code",
   "execution_count": 7,
   "metadata": {},
   "outputs": [],
   "source": [
    "import requests\n",
    "import json"
   ]
  },
  {
   "cell_type": "code",
   "execution_count": 8,
   "metadata": {},
   "outputs": [],
   "source": [
    "web_service_url = \"http://hacartumai.azurewebsites.net/\""
   ]
  },
  {
   "cell_type": "code",
   "execution_count": 9,
   "metadata": {},
   "outputs": [],
   "source": [
    "def get_result_local(data):\n",
    "    body = str.encode(json.dumps(data))\n",
    "\n",
    "    url = '{}/score'.format(web_service_url)\n",
    "    \n",
    "    # api_key = 'your service key' \n",
    "    headers = {'Content-Type':'application/json'}\n",
    "\n",
    "    resp = requests.post(url, data, headers=headers)\n",
    "    return resp.text"
   ]
  },
  {
   "cell_type": "markdown",
   "metadata": {},
   "source": [
    "| Variable | Definition | Type |\n",
    "| ------------- |-------------| -----|\n",
    "| pclass | Ticket class |  Decimal, 1 = 1st, 2 = 2nd, 3 = 3rd |\n",
    "| sex | Gender | Male 0 or Female 1 as int |\n",
    "| Age | Age in years | Decimal |\n",
    "| sibsp | # of siblings / spouses aboard the Titanic | Decimal|\n",
    "| parch | # of parents / children aboard the Titanic | Decimal|\n",
    "| fare | Passenger Fare (in Dollars) | Decimal |"
   ]
  },
  {
   "cell_type": "code",
   "execution_count": 10,
   "metadata": {},
   "outputs": [],
   "source": [
    "ACCX = 1\n",
    "ACCY = 1\n",
    "ACCZ = 1\n",
    "\n",
    "ACC_AVG = 0\n",
    "ACC_VAR = 0\n",
    "\n",
    "GYROX = 1\n",
    "GYROY = 1\n",
    "GYROZ = 1\n",
    "\n",
    "GYRO_AVG = 0\n",
    "GYRO_VAR = 0\n",
    "\n",
    "\n",
    "data = { \"input_df\": [\n",
    "    {\n",
    "       \n",
    "        \"MAX_ACCX\": ACCX,\n",
    "        \"MAX_ACCY\": ACCY,\n",
    "        \"MAX_ACCZ\": ACCZ,\n",
    "        \n",
    "        \"MAX_GYROX\": GYROX,\n",
    "        \"MAX_GYROY\": GYROY,\n",
    "        \"MAX_GYROZ\": GYROZ,\n",
    "        \n",
    "        \"ACC_AVG\": ACC_AVG,\n",
    "        \"ACC_VAR\": ACC_VAR,\n",
    "        \n",
    "        \"GYRO_AVG\": GYRO_AVG,\n",
    "        \"GYRO_VAR\": GYRO_VAR\n",
    "        \n",
    "    }\n",
    "]}\n",
    "\n",
    "body = str.encode(json.dumps(data))"
   ]
  },
  {
   "cell_type": "code",
   "execution_count": 11,
   "metadata": {},
   "outputs": [
    {
     "data": {
      "text/plain": [
       "'Service Unavailable'"
      ]
     },
     "execution_count": 11,
     "metadata": {},
     "output_type": "execute_result"
    }
   ],
   "source": [
    "get_result_local(json.dumps(data))"
   ]
  },
  {
   "cell_type": "code",
   "execution_count": null,
   "metadata": {},
   "outputs": [],
   "source": []
  },
  {
   "cell_type": "code",
   "execution_count": null,
   "metadata": {},
   "outputs": [],
   "source": []
  },
  {
   "cell_type": "code",
   "execution_count": null,
   "metadata": {},
   "outputs": [],
   "source": []
  },
  {
   "cell_type": "code",
   "execution_count": null,
   "metadata": {},
   "outputs": [],
   "source": []
  }
 ],
 "metadata": {
  "anaconda-cloud": {},
  "kernelspec": {
   "display_name": "Python 3",
   "language": "python",
   "name": "python3"
  },
  "language_info": {
   "codemirror_mode": {
    "name": "ipython",
    "version": 3
   },
   "file_extension": ".py",
   "mimetype": "text/x-python",
   "name": "python",
   "nbconvert_exporter": "python",
   "pygments_lexer": "ipython3",
   "version": "3.5.2"
  }
 },
 "nbformat": 4,
 "nbformat_minor": 2
}
